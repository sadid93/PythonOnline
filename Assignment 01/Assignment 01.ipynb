{
 "cells": [
  {
   "cell_type": "code",
   "execution_count": 5,
   "id": "a77c50b2",
   "metadata": {},
   "outputs": [
    {
     "name": "stdout",
     "output_type": "stream",
     "text": [
      "Twinkle, twinkle, little star, \n",
      " \t How I wonder what you are!\n",
      "\t\t Up above the world so high, \n",
      " \t\t like a diamond in the sky.\n",
      "Twinkle, twinkle, little star, \n",
      " \t How I wonder what you are!\n"
     ]
    }
   ],
   "source": [
    "print(\"Twinkle, twinkle, little star, \\n \\t How I wonder what you are!\")\n",
    "print(\"\\t\\t Up above the world so high, \\n \\t\\t like a diamond in the sky.\")\n",
    "print(\"Twinkle, twinkle, little star, \\n \\t How I wonder what you are!\")"
   ]
  },
  {
   "cell_type": "code",
   "execution_count": 2,
   "id": "5844159a",
   "metadata": {},
   "outputs": [
    {
     "name": "stdout",
     "output_type": "stream",
     "text": [
      "3.9.7\n"
     ]
    }
   ],
   "source": [
    "from platform import python_version\n",
    "\n",
    "print(python_version())"
   ]
  },
  {
   "cell_type": "code",
   "execution_count": 10,
   "id": "7efe981a",
   "metadata": {},
   "outputs": [
    {
     "name": "stdout",
     "output_type": "stream",
     "text": [
      "Current date and time : \n",
      "2021-12-29 23:57:36\n"
     ]
    }
   ],
   "source": [
    "import datetime\n",
    "date_And_Time = datetime.datetime.now()\n",
    "print(\"Current date and time : \")\n",
    "print(date_And_Time.strftime(\"%Y-%m-%d %H:%M:%S\"))"
   ]
  },
  {
   "cell_type": "code",
   "execution_count": 11,
   "id": "b5e86055",
   "metadata": {},
   "outputs": [
    {
     "name": "stdout",
     "output_type": "stream",
     "text": [
      "Input the radius of the circle : 1.1\n",
      "The area of the circle with radius 1.1 is : 3.8013271108436504\n"
     ]
    }
   ],
   "source": [
    "from math import pi\n",
    "raduis = float(input (\"Input the radius of the circle : \"))\n",
    "print (f\"The area of the circle with radius {raduis} is : {(pi * r**2)}\")\n"
   ]
  },
  {
   "cell_type": "code",
   "execution_count": 15,
   "id": "0251daec",
   "metadata": {},
   "outputs": [
    {
     "name": "stdout",
     "output_type": "stream",
     "text": [
      "What is your first name?:sadid\n",
      "What's your last name?: ahmad\n",
      "didas  damha\n"
     ]
    }
   ],
   "source": [
    "fname = input(\"What is your first name?:\")\n",
    "lname = input(\"What's your last name?: \")\n",
    "\n",
    "fn = fname[::-1]\n",
    "ln = lname[::-1]\n",
    "\n",
    "print (fn,\"\",ln)"
   ]
  },
  {
   "cell_type": "code",
   "execution_count": 17,
   "id": "18233e27",
   "metadata": {},
   "outputs": [
    {
     "name": "stdout",
     "output_type": "stream",
     "text": [
      "Enter your First Number : 12\n",
      "Enter your Second Number : 24\n",
      "36\n"
     ]
    }
   ],
   "source": [
    "number1 = int(input(\"Enter your First Number : \"))\n",
    "number2 = int(input(\"Enter your Second Number : \"))\n",
    "\n",
    "sum = number1 + number2\n",
    "\n",
    "print(sum)\n"
   ]
  },
  {
   "cell_type": "code",
   "execution_count": null,
   "id": "c2397551",
   "metadata": {},
   "outputs": [],
   "source": []
  }
 ],
 "metadata": {
  "kernelspec": {
   "display_name": "Python 3 (ipykernel)",
   "language": "python",
   "name": "python3"
  },
  "language_info": {
   "codemirror_mode": {
    "name": "ipython",
    "version": 3
   },
   "file_extension": ".py",
   "mimetype": "text/x-python",
   "name": "python",
   "nbconvert_exporter": "python",
   "pygments_lexer": "ipython3",
   "version": "3.9.7"
  }
 },
 "nbformat": 4,
 "nbformat_minor": 5
}
